{
 "cells": [
  {
   "cell_type": "markdown",
   "id": "7b003bb3",
   "metadata": {},
   "source": [
    "# Numpy Introduction"
   ]
  },
  {
   "cell_type": "code",
   "execution_count": 1,
   "id": "a4278f8e",
   "metadata": {},
   "outputs": [],
   "source": [
    "import numpy"
   ]
  },
  {
   "cell_type": "code",
   "execution_count": 2,
   "id": "db59aba1",
   "metadata": {},
   "outputs": [
    {
     "name": "stdout",
     "output_type": "stream",
     "text": [
      "[1 2 3 4 5 6 7 8 9]\n"
     ]
    }
   ],
   "source": [
    "x = numpy.array([1,2,3,4,5,6,7,8,9])\n",
    "print(x)\n",
    "\n"
   ]
  },
  {
   "cell_type": "raw",
   "id": "b7f5cf99",
   "metadata": {},
   "source": [
    "# Numpy is 50X Faster then List"
   ]
  },
  {
   "cell_type": "code",
   "execution_count": 3,
   "id": "bdb4baa3",
   "metadata": {},
   "outputs": [],
   "source": [
    "#create the arrays in the numpy "
   ]
  },
  {
   "cell_type": "code",
   "execution_count": 4,
   "id": "7562d528",
   "metadata": {},
   "outputs": [
    {
     "name": "stdout",
     "output_type": "stream",
     "text": [
      "[1 2 3 4 5 6 7 8 9]\n",
      "[1 2 3 4 5 6 7 8 9]\n"
     ]
    }
   ],
   "source": [
    "x = numpy.array([1,2,3,4,5,6,7,8,9])\n",
    "print(x)\n",
    "y = numpy.array((1,2,3,4,5,6,7,8,9))\n",
    "print(y)\n"
   ]
  },
  {
   "cell_type": "markdown",
   "id": "1ff5a428",
   "metadata": {},
   "source": [
    "# Dimentional "
   ]
  },
  {
   "cell_type": "code",
   "execution_count": 23,
   "id": "f949bcdc",
   "metadata": {},
   "outputs": [
    {
     "name": "stdout",
     "output_type": "stream",
     "text": [
      "0\n",
      "1\n",
      "2\n",
      "3\n"
     ]
    }
   ],
   "source": [
    "import numpy\n",
    "\n",
    "\n",
    "#scalar dimentional array\n",
    "\n",
    "x = numpy.array(45)\n",
    "print(x.ndim)\n",
    "\n",
    "\n",
    "#one dimentional array or uni-dimentional array\n",
    "\n",
    "\n",
    "y = numpy.array([1,2,3,4,5,6,7,8,9])\n",
    "print(y.ndim)\n",
    "\n",
    "\n",
    "#two dimentional array \n",
    "\n",
    "\n",
    "z = numpy.array([[1,2],[8,2]])\n",
    "print(z.ndim)\n",
    "\n",
    "\n",
    "#three dimentional array or multi-dimentional array\n",
    "\n",
    "\n",
    "z1 = numpy.array([[[1,4,5,6],[8,7,6,5],[8,7,6,5]]])\n",
    "print(z1.ndim)\n",
    "\n",
    "\n"
   ]
  },
  {
   "cell_type": "code",
   "execution_count": 25,
   "id": "35528f7c",
   "metadata": {},
   "outputs": [
    {
     "name": "stdout",
     "output_type": "stream",
     "text": [
      "[[[[[1 2 3 4 5]]]]]\n",
      "5\n"
     ]
    }
   ],
   "source": [
    "z2 = numpy.array([1,2,3,4,5],ndmin = 5)\n",
    "\n",
    "print(z2)\n",
    "print(z2.ndim)"
   ]
  },
  {
   "cell_type": "markdown",
   "id": "0fe842e4",
   "metadata": {},
   "source": [
    "# Indexing"
   ]
  },
  {
   "cell_type": "code",
   "execution_count": 26,
   "id": "ece3f557",
   "metadata": {},
   "outputs": [],
   "source": [
    "#First Dimention Idexing"
   ]
  },
  {
   "cell_type": "code",
   "execution_count": 30,
   "id": "123ec541",
   "metadata": {},
   "outputs": [
    {
     "name": "stdout",
     "output_type": "stream",
     "text": [
      "1\n",
      "9\n",
      "1 9\n",
      "10\n"
     ]
    }
   ],
   "source": [
    "x = numpy.array([1,2,3,4,5,6,7,8,9])\n",
    "\n",
    "\n",
    "print(x[0])\n",
    "print(x[-1])\n",
    "\n",
    "print(x[0],x[-1])\n",
    "\n",
    "y=x[0]+x[-1]\n",
    "\n",
    "print(y)\n"
   ]
  },
  {
   "cell_type": "code",
   "execution_count": 31,
   "id": "cff1771e",
   "metadata": {},
   "outputs": [],
   "source": [
    "#Two Dimention Idexing"
   ]
  },
  {
   "cell_type": "code",
   "execution_count": 37,
   "id": "65395761",
   "metadata": {},
   "outputs": [
    {
     "name": "stdout",
     "output_type": "stream",
     "text": [
      "[[1 2 3]\n",
      " [4 5 6]]\n",
      "\n",
      "[1 2 3]\n",
      "1\n",
      "2\n",
      "4\n",
      "5\n"
     ]
    }
   ],
   "source": [
    "z = numpy.array([[1,2,3],[4,5,6]])\n",
    "\n",
    "print(z)\n",
    "\n",
    "print()\n",
    "\n",
    "print(z[0])\n",
    "\n",
    "print(z[0,0])\n",
    "\n",
    "print(z[0,1])\n",
    "\n",
    "print(z[1,0])\n",
    "\n",
    "print(z[1,1])\n",
    "\n"
   ]
  },
  {
   "cell_type": "code",
   "execution_count": 48,
   "id": "5f94cff7",
   "metadata": {},
   "outputs": [
    {
     "name": "stdout",
     "output_type": "stream",
     "text": [
      "[[ 1  2  3  4]\n",
      " [ 5  6  7  8]\n",
      " [ 9 10 11 12]]\n",
      "\n",
      "[1 2 3 4]\n",
      "\n",
      "[5 6 7 8]\n",
      "\n",
      "6\n",
      "\n",
      "7\n",
      "\n",
      "[ 9 10 11 12]\n",
      "\n",
      "12\n",
      "\n"
     ]
    }
   ],
   "source": [
    "z1 = numpy.array([[[1,2,3,4],[5,6,7,8],[9,10,11,12]]])\n",
    "\n",
    "print(z1[0])\n",
    "print()\n",
    "\n",
    "print(z1[0,0])\n",
    "print()\n",
    "\n",
    "print(z1[0,1])\n",
    "print()\n",
    "\n",
    "print(z1[0,1,1])\n",
    "print()\n",
    "\n",
    "print(z1[0,1,2])\n",
    "print()\n",
    "\n",
    "print(z1[0,-1])\n",
    "print()\n",
    "\n",
    "print(z1[0,-1,-1])\n",
    "print()"
   ]
  },
  {
   "cell_type": "markdown",
   "id": "42d06992",
   "metadata": {},
   "source": [
    "# Slicing in the Single Dimentional"
   ]
  },
  {
   "cell_type": "code",
   "execution_count": 53,
   "id": "e7e9ff30",
   "metadata": {},
   "outputs": [
    {
     "name": "stdout",
     "output_type": "stream",
     "text": [
      "[2 3 4 5 6 7 8 9]\n",
      "\n",
      "[4 5]\n",
      "\n",
      "[7 8 9]\n"
     ]
    }
   ],
   "source": [
    "x = numpy.array([1,2,3,4,5,6,7,8,9])\n",
    "\n",
    "\n",
    "print(x[1:])\n",
    "\n",
    "print()\n",
    "\n",
    "print(x[3:5])\n",
    "\n",
    "print()\n",
    "\n",
    "print(x[-3:])"
   ]
  },
  {
   "cell_type": "markdown",
   "id": "cea5acd9",
   "metadata": {},
   "source": [
    "# Slicing in the Two Dimentional"
   ]
  },
  {
   "cell_type": "code",
   "execution_count": 61,
   "id": "d4029f4f",
   "metadata": {},
   "outputs": [
    {
     "name": "stdout",
     "output_type": "stream",
     "text": [
      "[[1 2 3 4 5 6]\n",
      " [1 2 2 3 4 5]]\n",
      "\n",
      "[2 3 4 5 6]\n",
      "\n",
      "[1 2 3 4]\n",
      "\n",
      "[5]\n"
     ]
    }
   ],
   "source": [
    "\n",
    "z = numpy.array([[1,2,3,4,5,6],[1,2,2,3,4,5]])\n",
    "print(z)\n",
    "\n",
    "print()\n",
    "\n",
    "print(z[0,1:])\n",
    "\n",
    "print()\n",
    "\n",
    "print(z[0,0:4])\n",
    "\n",
    "print()\n",
    "\n",
    "print(z[1,-1:])"
   ]
  },
  {
   "cell_type": "code",
   "execution_count": null,
   "id": "c914bee7",
   "metadata": {},
   "outputs": [],
   "source": []
  }
 ],
 "metadata": {
  "kernelspec": {
   "display_name": "Python 3 (ipykernel)",
   "language": "python",
   "name": "python3"
  },
  "language_info": {
   "codemirror_mode": {
    "name": "ipython",
    "version": 3
   },
   "file_extension": ".py",
   "mimetype": "text/x-python",
   "name": "python",
   "nbconvert_exporter": "python",
   "pygments_lexer": "ipython3",
   "version": "3.9.12"
  }
 },
 "nbformat": 4,
 "nbformat_minor": 5
}
